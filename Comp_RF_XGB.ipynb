{
 "cells": [
  {
   "cell_type": "markdown",
   "metadata": {},
   "source": [
    "# 1. Data Preprocessing and Feature Engineering"
   ]
  },
  {
   "cell_type": "code",
   "execution_count": 1,
   "metadata": {},
   "outputs": [],
   "source": [
    "from os import path\n",
    "import numpy as np\n",
    "import pandas as pd\n",
    "from sklearn.model_selection import train_test_split\n",
    "from sklearn.preprocessing import StandardScaler\n",
    "\n",
    "# Load the IoT sensor data\n",
    "dataset_path = 'path//to//csv_file[containing:]'\n",
    "if path.exists(dataset_path):\n",
    "    data = pd.read_csv(dataset_path)\n",
    "else:\n",
    "    nsample = 1000\n",
    "    min_temp,max_temp = -100,100\n",
    "    min_vib,max_vib = -1000,1000\n",
    "    min_press,max_press = -500,500\n",
    "    min_fail,max_fail = 0,10\n",
    "    temperature = min_temp+(max_temp-min_temp)*np.random.random(nsample)\n",
    "    vibration = min_vib+(max_vib-min_vib)*np.random.random(nsample)\n",
    "    pressure = min_press+(max_press-min_press)*np.random.random(nsample)\n",
    "    machine_failure = np.random.randint(min_fail,max_fail,1000)\n",
    "    data_dict = {'temperature':temperature,'vibration':vibration,'pressure':pressure,\n",
    "                 'machine_failure':machine_failure}\n",
    "    data = pd.DataFrame(data_dict)\n",
    "\n",
    "# Data preprocessing\n",
    "# Feature engineering: extract useful features from sensor readings\n",
    "data['temp_diff'] = data['temperature'].diff()\n",
    "data['vibration_change'] = data['vibration'].pct_change()\n",
    "data['pressure_roll_mean'] = data['pressure'].rolling(window=5).mean()\n",
    "# Drop rows with NaN values (if created during feature engineering)\n",
    "data.dropna(inplace=True)\n",
    "# # Define target and features\n",
    "X = data.drop(['machine_failure'], axis=1)\n",
    "Y = data['machine_failure']\n",
    "# # Split the data into train and test sets\n",
    "X_train, X_test, Y_train, Y_test = train_test_split(X, Y, test_size=0.3, random_state=42)\n",
    "# # Feature scaling\n",
    "scaler = StandardScaler()\n",
    "X_train_scaled = scaler.fit_transform(X_train)\n",
    "X_test_scaled = scaler.transform(X_test)"
   ]
  },
  {
   "cell_type": "markdown",
   "metadata": {},
   "source": [
    "# 2. Model Development and Training"
   ]
  },
  {
   "cell_type": "code",
   "execution_count": 2,
   "metadata": {},
   "outputs": [
    {
     "name": "stdout",
     "output_type": "stream",
     "text": [
      "Random Forest Model Performance:\n",
      "              precision    recall  f1-score   support\n",
      "\n",
      "           0       0.17      0.21      0.19        39\n",
      "           1       0.04      0.07      0.05        29\n",
      "           2       0.36      0.17      0.23        30\n",
      "           3       0.13      0.23      0.16        22\n",
      "           4       0.08      0.09      0.08        23\n",
      "           5       0.18      0.19      0.19        31\n",
      "           6       0.20      0.17      0.18        35\n",
      "           7       0.18      0.14      0.16        36\n",
      "           8       0.15      0.13      0.14        30\n",
      "           9       0.00      0.00      0.00        24\n",
      "\n",
      "    accuracy                           0.14       299\n",
      "   macro avg       0.15      0.14      0.14       299\n",
      "weighted avg       0.16      0.14      0.14       299\n",
      "\n",
      "Accuracy: 0.14\n",
      "\n",
      "XGBoost Model Performance:\n",
      "              precision    recall  f1-score   support\n",
      "\n",
      "           0       0.20      0.18      0.19        39\n",
      "           1       0.05      0.07      0.05        29\n",
      "           2       0.28      0.17      0.21        30\n",
      "           3       0.09      0.14      0.11        22\n",
      "           4       0.07      0.09      0.08        23\n",
      "           5       0.11      0.13      0.12        31\n",
      "           6       0.16      0.17      0.16        35\n",
      "           7       0.09      0.06      0.07        36\n",
      "           8       0.07      0.07      0.07        30\n",
      "           9       0.13      0.08      0.10        24\n",
      "\n",
      "    accuracy                           0.12       299\n",
      "   macro avg       0.12      0.11      0.12       299\n",
      "weighted avg       0.13      0.12      0.12       299\n",
      "\n",
      "Accuracy: 0.12\n"
     ]
    }
   ],
   "source": [
    "from sklearn.ensemble import RandomForestClassifier\n",
    "from xgboost import XGBClassifier\n",
    "from sklearn.metrics import classification_report, accuracy_score\n",
    "import joblib\n",
    "# Initialize models\n",
    "rf_model = RandomForestClassifier(n_estimators=100, random_state=42)\n",
    "xgb_model = XGBClassifier(n_estimators=100, random_state=42, eval_metric='logloss')\n",
    "\n",
    "# Train models\n",
    "rf_model.fit(X_train_scaled, Y_train)\n",
    "xgb_model.fit(X_train_scaled, Y_train)\n",
    "\n",
    "# save\n",
    "joblib.dump(rf_model, \"rf_model.joblib\")\n",
    "joblib.dump(xgb_model, \"xgb_model.joblib\")\n",
    "joblib.dump(scaler, \"scaler.joblib\")\n",
    "# Predictions and Evaluation\n",
    "rf_predictions = rf_model.predict(X_test_scaled)\n",
    "xgb_predictions = xgb_model.predict(X_test_scaled)\n",
    "\n",
    "# Evaluation\n",
    "print(\"Random Forest Model Performance:\")\n",
    "print(classification_report(Y_test, rf_predictions))\n",
    "print(f\"Accuracy: {accuracy_score(Y_test, rf_predictions):.2f}\\n\")\n",
    "\n",
    "print(\"XGBoost Model Performance:\")\n",
    "print(classification_report(Y_test, xgb_predictions))\n",
    "print(f\"Accuracy: {accuracy_score(Y_test, xgb_predictions):.2f}\")"
   ]
  },
  {
   "cell_type": "markdown",
   "metadata": {},
   "source": [
    "# 3. Loading model"
   ]
  },
  {
   "cell_type": "code",
   "execution_count": 3,
   "metadata": {},
   "outputs": [],
   "source": [
    "loaded_rf_model = joblib.load(\"rf_model.joblib\")\n",
    "loaded_xg_model = joblib.load(\"xgb_model.joblib\")\n",
    "loaded_scaler = joblib.load(\"scaler.joblib\")"
   ]
  }
 ],
 "metadata": {
  "kernelspec": {
   "display_name": ".venv",
   "language": "python",
   "name": "python3"
  },
  "language_info": {
   "codemirror_mode": {
    "name": "ipython",
    "version": 3
   },
   "file_extension": ".py",
   "mimetype": "text/x-python",
   "name": "python",
   "nbconvert_exporter": "python",
   "pygments_lexer": "ipython3",
   "version": "3.12.6"
  }
 },
 "nbformat": 4,
 "nbformat_minor": 2
}
